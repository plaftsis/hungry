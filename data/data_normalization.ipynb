{
 "cells": [
  {
   "cell_type": "code",
   "execution_count": 1,
   "metadata": {},
   "outputs": [],
   "source": [
    "import pandas as pd\n",
    "import numpy as np\n",
    "import os"
   ]
  },
  {
   "cell_type": "code",
   "execution_count": 2,
   "metadata": {},
   "outputs": [],
   "source": [
    "df = pd.read_json('recipes.json', lines=True)"
   ]
  },
  {
   "cell_type": "code",
   "execution_count": 3,
   "metadata": {},
   "outputs": [
    {
     "data": {
      "text/html": [
       "<div>\n",
       "<style scoped>\n",
       "    .dataframe tbody tr th:only-of-type {\n",
       "        vertical-align: middle;\n",
       "    }\n",
       "\n",
       "    .dataframe tbody tr th {\n",
       "        vertical-align: top;\n",
       "    }\n",
       "\n",
       "    .dataframe thead th {\n",
       "        text-align: right;\n",
       "    }\n",
       "</style>\n",
       "<table border=\"1\" class=\"dataframe\">\n",
       "  <thead>\n",
       "    <tr style=\"text-align: right;\">\n",
       "      <th></th>\n",
       "      <th>rate</th>\n",
       "      <th>author_tip</th>\n",
       "      <th>budget</th>\n",
       "      <th>prep_time</th>\n",
       "      <th>ingredients</th>\n",
       "      <th>name</th>\n",
       "      <th>author</th>\n",
       "      <th>difficulty</th>\n",
       "      <th>people_quantity</th>\n",
       "      <th>cook_time</th>\n",
       "      <th>tags</th>\n",
       "      <th>total_time</th>\n",
       "      <th>image</th>\n",
       "      <th>nb_comments</th>\n",
       "    </tr>\n",
       "  </thead>\n",
       "  <tbody>\n",
       "    <tr>\n",
       "      <th>0</th>\n",
       "      <td>5</td>\n",
       "      <td></td>\n",
       "      <td>bon marché</td>\n",
       "      <td>15 min</td>\n",
       "      <td>[600g de pâte à crêpe, 1/2 orange, 1/2 banane,...</td>\n",
       "      <td>6 ingrédients que l’on peut ajouter sur une cr...</td>\n",
       "      <td>Nutella</td>\n",
       "      <td>très facile</td>\n",
       "      <td>6</td>\n",
       "      <td>10 min</td>\n",
       "      <td>[Crêpe, Crêpes sucrées, Végétarien, Dessert]</td>\n",
       "      <td>25 min</td>\n",
       "      <td>https://assets.afcdn.com/recipe/20171006/72810...</td>\n",
       "      <td>1</td>\n",
       "    </tr>\n",
       "    <tr>\n",
       "      <th>1</th>\n",
       "      <td>3</td>\n",
       "      <td></td>\n",
       "      <td>Coût moyen</td>\n",
       "      <td>2 h</td>\n",
       "      <td>[1kg d'agneau, 300g de riz, 24 abricots secs, ...</td>\n",
       "      <td>Agneau à l'abricot (recette turque)</td>\n",
       "      <td>oscar_15167769</td>\n",
       "      <td>Niveau moyen</td>\n",
       "      <td>6</td>\n",
       "      <td>1 h</td>\n",
       "      <td>[Plat principal]</td>\n",
       "      <td>3 h</td>\n",
       "      <td></td>\n",
       "      <td>1</td>\n",
       "    </tr>\n",
       "    <tr>\n",
       "      <th>2</th>\n",
       "      <td>4.6</td>\n",
       "      <td></td>\n",
       "      <td>bon marché</td>\n",
       "      <td>15 min</td>\n",
       "      <td>[1kg d'épaule d'agneau désossée, 3 oignons, 2 ...</td>\n",
       "      <td>Agneau à l'oriental</td>\n",
       "      <td>zoreille</td>\n",
       "      <td>très facile</td>\n",
       "      <td>6</td>\n",
       "      <td>1 h</td>\n",
       "      <td>[Sans gluten, Plat principal]</td>\n",
       "      <td>1h15</td>\n",
       "      <td></td>\n",
       "      <td>10</td>\n",
       "    </tr>\n",
       "    <tr>\n",
       "      <th>3</th>\n",
       "      <td>5</td>\n",
       "      <td></td>\n",
       "      <td>bon marché</td>\n",
       "      <td>45 min</td>\n",
       "      <td>[2 aubergines, 3 tomates, 700g d'épaule d'agne...</td>\n",
       "      <td>Agneau à la grec (aubergine &amp; feta)</td>\n",
       "      <td>richard_148</td>\n",
       "      <td>facile</td>\n",
       "      <td>4</td>\n",
       "      <td>1 h</td>\n",
       "      <td>[Sans gluten, Plat principal]</td>\n",
       "      <td>1h45</td>\n",
       "      <td></td>\n",
       "      <td>6</td>\n",
       "    </tr>\n",
       "    <tr>\n",
       "      <th>4</th>\n",
       "      <td>5</td>\n",
       "      <td></td>\n",
       "      <td>Coût moyen</td>\n",
       "      <td>30 min</td>\n",
       "      <td>[1 gigot d'agneau, 2 oignons, 6gousses d'ail, ...</td>\n",
       "      <td>Agneau à la mangue et aux amandes</td>\n",
       "      <td>roxane_16871304</td>\n",
       "      <td>très facile</td>\n",
       "      <td>4</td>\n",
       "      <td>1 h</td>\n",
       "      <td>[Sans gluten, Plat principal]</td>\n",
       "      <td>1h30</td>\n",
       "      <td></td>\n",
       "      <td>2</td>\n",
       "    </tr>\n",
       "  </tbody>\n",
       "</table>\n",
       "</div>"
      ],
      "text/plain": [
       "  rate author_tip      budget prep_time  \\\n",
       "0    5             bon marché    15 min   \n",
       "1    3             Coût moyen       2 h   \n",
       "2  4.6             bon marché    15 min   \n",
       "3    5             bon marché    45 min   \n",
       "4    5             Coût moyen    30 min   \n",
       "\n",
       "                                         ingredients  \\\n",
       "0  [600g de pâte à crêpe, 1/2 orange, 1/2 banane,...   \n",
       "1  [1kg d'agneau, 300g de riz, 24 abricots secs, ...   \n",
       "2  [1kg d'épaule d'agneau désossée, 3 oignons, 2 ...   \n",
       "3  [2 aubergines, 3 tomates, 700g d'épaule d'agne...   \n",
       "4  [1 gigot d'agneau, 2 oignons, 6gousses d'ail, ...   \n",
       "\n",
       "                                                name           author  \\\n",
       "0  6 ingrédients que l’on peut ajouter sur une cr...          Nutella   \n",
       "1                Agneau à l'abricot (recette turque)   oscar_15167769   \n",
       "2                                Agneau à l'oriental         zoreille   \n",
       "3                Agneau à la grec (aubergine & feta)      richard_148   \n",
       "4                  Agneau à la mangue et aux amandes  roxane_16871304   \n",
       "\n",
       "     difficulty people_quantity cook_time  \\\n",
       "0   très facile               6    10 min   \n",
       "1  Niveau moyen               6       1 h   \n",
       "2   très facile               6       1 h   \n",
       "3        facile               4       1 h   \n",
       "4   très facile               4       1 h   \n",
       "\n",
       "                                           tags total_time  \\\n",
       "0  [Crêpe, Crêpes sucrées, Végétarien, Dessert]     25 min   \n",
       "1                              [Plat principal]        3 h   \n",
       "2                 [Sans gluten, Plat principal]       1h15   \n",
       "3                 [Sans gluten, Plat principal]       1h45   \n",
       "4                 [Sans gluten, Plat principal]       1h30   \n",
       "\n",
       "                                               image  nb_comments  \n",
       "0  https://assets.afcdn.com/recipe/20171006/72810...            1  \n",
       "1                                                               1  \n",
       "2                                                              10  \n",
       "3                                                               6  \n",
       "4                                                               2  "
      ]
     },
     "execution_count": 3,
     "metadata": {},
     "output_type": "execute_result"
    }
   ],
   "source": [
    "df.head()"
   ]
  },
  {
   "cell_type": "code",
   "execution_count": 4,
   "metadata": {},
   "outputs": [],
   "source": [
    "df['name'] = df['name'].str.capitalize()"
   ]
  },
  {
   "cell_type": "code",
   "execution_count": 5,
   "metadata": {},
   "outputs": [
    {
     "data": {
      "text/plain": [
       "facile          4796\n",
       "très facile     3942\n",
       "Niveau moyen     719\n",
       "difficile         34\n",
       "Name: difficulty, dtype: int64"
      ]
     },
     "execution_count": 5,
     "metadata": {},
     "output_type": "execute_result"
    }
   ],
   "source": [
    "df['difficulty'].value_counts()"
   ]
  },
  {
   "cell_type": "code",
   "execution_count": 6,
   "metadata": {},
   "outputs": [],
   "source": [
    "df['difficulty'] = df['difficulty'].str.lower()"
   ]
  },
  {
   "cell_type": "code",
   "execution_count": 7,
   "metadata": {},
   "outputs": [
    {
     "data": {
      "text/plain": [
       "bon marché    5907\n",
       "Coût moyen    3256\n",
       "assez cher     328\n",
       "Name: budget, dtype: int64"
      ]
     },
     "execution_count": 7,
     "metadata": {},
     "output_type": "execute_result"
    }
   ],
   "source": [
    "df['budget'].value_counts()"
   ]
  },
  {
   "cell_type": "code",
   "execution_count": 8,
   "metadata": {},
   "outputs": [],
   "source": [
    "df['budget'] = df['budget'].str.lower()"
   ]
  },
  {
   "cell_type": "code",
   "execution_count": 9,
   "metadata": {},
   "outputs": [
    {
     "data": {
      "text/plain": [
       "4085"
      ]
     },
     "execution_count": 9,
     "metadata": {},
     "output_type": "execute_result"
    }
   ],
   "source": [
    "(df['image'].values != '').sum()"
   ]
  },
  {
   "cell_type": "code",
   "execution_count": 10,
   "metadata": {},
   "outputs": [
    {
     "data": {
      "text/plain": [
       "0"
      ]
     },
     "execution_count": 10,
     "metadata": {},
     "output_type": "execute_result"
    }
   ],
   "source": [
    "(df['author_tip'].values != '').sum()"
   ]
  },
  {
   "cell_type": "code",
   "execution_count": 11,
   "metadata": {},
   "outputs": [
    {
     "data": {
      "text/plain": [
       "       2202\n",
       "5      1511\n",
       "4       975\n",
       "4.8     710\n",
       "4.7     647\n",
       "4.5     645\n",
       "4.3     488\n",
       "4.6     388\n",
       "4.4     365\n",
       "4.9     320\n",
       "3       263\n",
       "4.2     169\n",
       "3.5     164\n",
       "2        97\n",
       "3.8      95\n",
       "3.7      88\n",
       "4.1      81\n",
       "3.3      55\n",
       "1        50\n",
       "3.9      39\n",
       "3.6      31\n",
       "2.5      29\n",
       "3.4      20\n",
       "3.2      16\n",
       "0        11\n",
       "2.8      11\n",
       "2.7       7\n",
       "2.3       7\n",
       "3.1       2\n",
       "2.6       2\n",
       "2.4       1\n",
       "1.5       1\n",
       "1.7       1\n",
       "Name: rate, dtype: int64"
      ]
     },
     "execution_count": 11,
     "metadata": {},
     "output_type": "execute_result"
    }
   ],
   "source": [
    "df['rate'].value_counts()"
   ]
  },
  {
   "cell_type": "code",
   "execution_count": 12,
   "metadata": {},
   "outputs": [],
   "source": [
    "df['rate'] = df['rate'].replace('', np.nan, regex=True)\n",
    "df['rate'] = df['rate'].astype(float)"
   ]
  },
  {
   "cell_type": "code",
   "execution_count": 13,
   "metadata": {},
   "outputs": [
    {
     "data": {
      "text/plain": [
       "4      5256\n",
       "6      1824\n",
       "2      1319\n",
       "8       320\n",
       "3       226\n",
       "5       211\n",
       "1       176\n",
       "10       65\n",
       "12       33\n",
       "20       12\n",
       "          8\n",
       "24        7\n",
       "7         5\n",
       "30        4\n",
       "40        4\n",
       "15        4\n",
       "14        3\n",
       "25        3\n",
       "9         3\n",
       "16        3\n",
       "500       2\n",
       "100       1\n",
       "18        1\n",
       "50        1\n",
       "Name: people_quantity, dtype: int64"
      ]
     },
     "execution_count": 13,
     "metadata": {},
     "output_type": "execute_result"
    }
   ],
   "source": [
    "df['people_quantity'].value_counts()"
   ]
  },
  {
   "cell_type": "code",
   "execution_count": 14,
   "metadata": {},
   "outputs": [],
   "source": [
    "df['people_quantity'] = df['people_quantity'].replace('', 0, regex=True)\n",
    "df['people_quantity'] = df['people_quantity'].astype(int)"
   ]
  },
  {
   "cell_type": "code",
   "execution_count": 15,
   "metadata": {},
   "outputs": [
    {
     "data": {
      "text/html": [
       "<div>\n",
       "<style scoped>\n",
       "    .dataframe tbody tr th:only-of-type {\n",
       "        vertical-align: middle;\n",
       "    }\n",
       "\n",
       "    .dataframe tbody tr th {\n",
       "        vertical-align: top;\n",
       "    }\n",
       "\n",
       "    .dataframe thead tr th {\n",
       "        text-align: left;\n",
       "    }\n",
       "\n",
       "    .dataframe thead tr:last-of-type th {\n",
       "        text-align: right;\n",
       "    }\n",
       "</style>\n",
       "<table border=\"1\" class=\"dataframe\">\n",
       "  <thead>\n",
       "    <tr>\n",
       "      <th></th>\n",
       "      <th>total_time_in_minutes</th>\n",
       "    </tr>\n",
       "    <tr>\n",
       "      <th></th>\n",
       "      <th>max</th>\n",
       "    </tr>\n",
       "    <tr>\n",
       "      <th>total_time</th>\n",
       "      <th></th>\n",
       "    </tr>\n",
       "  </thead>\n",
       "  <tbody>\n",
       "    <tr>\n",
       "      <th></th>\n",
       "      <td>0</td>\n",
       "    </tr>\n",
       "    <tr>\n",
       "      <th>1 h</th>\n",
       "      <td>60</td>\n",
       "    </tr>\n",
       "    <tr>\n",
       "      <th>1 j</th>\n",
       "      <td>1440</td>\n",
       "    </tr>\n",
       "    <tr>\n",
       "      <th>1 j 1 h 30 min</th>\n",
       "      <td>1530</td>\n",
       "    </tr>\n",
       "    <tr>\n",
       "      <th>1 j 11 h 20 min</th>\n",
       "      <td>2120</td>\n",
       "    </tr>\n",
       "    <tr>\n",
       "      <th>...</th>\n",
       "      <td>...</td>\n",
       "    </tr>\n",
       "    <tr>\n",
       "      <th>7h30</th>\n",
       "      <td>450</td>\n",
       "    </tr>\n",
       "    <tr>\n",
       "      <th>7h35</th>\n",
       "      <td>455</td>\n",
       "    </tr>\n",
       "    <tr>\n",
       "      <th>8 h</th>\n",
       "      <td>480</td>\n",
       "    </tr>\n",
       "    <tr>\n",
       "      <th>8 min</th>\n",
       "      <td>8</td>\n",
       "    </tr>\n",
       "    <tr>\n",
       "      <th>9 min</th>\n",
       "      <td>9</td>\n",
       "    </tr>\n",
       "  </tbody>\n",
       "</table>\n",
       "<p>186 rows × 1 columns</p>\n",
       "</div>"
      ],
      "text/plain": [
       "                total_time_in_minutes\n",
       "                                  max\n",
       "total_time                           \n",
       "                                    0\n",
       "1 h                                60\n",
       "1 j                              1440\n",
       "1 j 1 h 30 min                   1530\n",
       "1 j 11 h 20 min                  2120\n",
       "...                               ...\n",
       "7h30                              450\n",
       "7h35                              455\n",
       "8 h                               480\n",
       "8 min                               8\n",
       "9 min                               9\n",
       "\n",
       "[186 rows x 1 columns]"
      ]
     },
     "execution_count": 15,
     "metadata": {},
     "output_type": "execute_result"
    }
   ],
   "source": [
    "from datetime import timedelta\n",
    "import re\n",
    "\n",
    "UNITS = {'m':'minutes', 'h':'hours', 'j':'days'}\n",
    "\n",
    "def timeparse(s):\n",
    "    s = s.replace('min', 'm').replace(' ', '')\n",
    "    return int(timedelta(**{\n",
    "        UNITS.get(m.group('unit').lower(), 'minutes'): float(m.group('val'))\n",
    "        for m in re.finditer(r'(?P<val>\\d+(\\.\\d+)?)(?P<unit>[minhj]?)', s, flags=re.I)\n",
    "    }).total_seconds()/60)\n",
    "\n",
    "df['prep_time_in_minutes'] = df['prep_time'].apply(timeparse)\n",
    "df['cook_time_in_minutes'] = df['cook_time'].apply(timeparse)\n",
    "df['total_time_in_minutes'] = df['total_time'].apply(timeparse)\n",
    "\n",
    "df.groupby('total_time').agg({'total_time_in_minutes': ['max']})"
   ]
  },
  {
   "cell_type": "code",
   "execution_count": 16,
   "metadata": {},
   "outputs": [],
   "source": [
    "df['prep_time_in_minutes'] = df['prep_time_in_minutes'].replace('', 0, regex=True)\n",
    "df['prep_time_in_minutes'] = df['prep_time_in_minutes'].astype(int)\n",
    "\n",
    "df['cook_time_in_minutes'] = df['cook_time_in_minutes'].replace('', 0, regex=True)\n",
    "df['cook_time_in_minutes'] = df['cook_time_in_minutes'].astype(int)\n",
    "\n",
    "df['total_time_in_minutes'] = df['total_time_in_minutes'].replace('', 0, regex=True)\n",
    "df['total_time_in_minutes'] = df['total_time_in_minutes'].astype(int)"
   ]
  },
  {
   "cell_type": "code",
   "execution_count": 17,
   "metadata": {},
   "outputs": [
    {
     "data": {
      "text/plain": [
       "Sel                                                 5519\n",
       "Poivre                                              5135\n",
       "1 oignon                                            1775\n",
       "Huile d'olive                                       1239\n",
       "2 oignons                                            838\n",
       "                                                    ... \n",
       "150g de pâte feuilletée                                1\n",
       "2 avocats coupés en deux puis en tranches fines.       1\n",
       "2cubes de Bouillon KUB Volaille MAGGI®                 1\n",
       "30g de mayonnaise                                      1\n",
       "2cuillères à café de ketchup                           1\n",
       "Name: ingredients, Length: 27867, dtype: int64"
      ]
     },
     "execution_count": 17,
     "metadata": {},
     "output_type": "execute_result"
    }
   ],
   "source": [
    "df.explode('ingredients')['ingredients'].value_counts()"
   ]
  },
  {
   "cell_type": "code",
   "execution_count": 18,
   "metadata": {},
   "outputs": [
    {
     "data": {
      "text/plain": [
       "Plat principal               9292\n",
       "Sans gluten                  4424\n",
       "Viande                       1909\n",
       "Végétarien                   1642\n",
       "Pâtes, riz, semoule          1358\n",
       "                             ... \n",
       "Palets et langues de chat       1\n",
       "Recettes d'Afrique              1\n",
       "Apéro léger                     1\n",
       "Cake au citron                  1\n",
       "Pissaladière                    1\n",
       "Name: tags, Length: 445, dtype: int64"
      ]
     },
     "execution_count": 18,
     "metadata": {},
     "output_type": "execute_result"
    }
   ],
   "source": [
    "df.explode('tags')['tags'].value_counts()"
   ]
  },
  {
   "cell_type": "code",
   "execution_count": 19,
   "metadata": {},
   "outputs": [
    {
     "data": {
      "text/plain": [
       "Anonyme              633\n",
       "Marmiton_Recettes    104\n",
       "Herta                 87\n",
       "Nutella               67\n",
       "colorado              61\n",
       "                    ... \n",
       "lorraine               1\n",
       "romy_14611896          1\n",
       "romy_13979912          1\n",
       "Jacky                  1\n",
       "camila_16414613        1\n",
       "Name: author, Length: 6399, dtype: int64"
      ]
     },
     "execution_count": 19,
     "metadata": {},
     "output_type": "execute_result"
    }
   ],
   "source": [
    "df['author'].value_counts()"
   ]
  },
  {
   "cell_type": "code",
   "execution_count": 20,
   "metadata": {},
   "outputs": [],
   "source": [
    "df['number_of_comments'] = df['nb_comments']\n",
    "df['id'] = df.index + 1\n",
    "df = df[['id','name','rate','people_quantity','prep_time_in_minutes','cook_time_in_minutes','total_time_in_minutes',\n",
    "         'image','number_of_comments','author','difficulty','budget','ingredients','tags']]"
   ]
  },
  {
   "cell_type": "code",
   "execution_count": 21,
   "metadata": {},
   "outputs": [],
   "source": [
    "df = df.replace('', np.nan, regex=True)"
   ]
  },
  {
   "cell_type": "code",
   "execution_count": 22,
   "metadata": {},
   "outputs": [],
   "source": [
    "if not os.path.exists('tables'):\n",
    "    os.makedirs('tables')"
   ]
  },
  {
   "cell_type": "code",
   "execution_count": 23,
   "metadata": {},
   "outputs": [],
   "source": [
    "df = df.assign(author_id=df.author.factorize()[0] + 1)\n",
    "df_authors = df[['author_id', 'author']].drop_duplicates()\n",
    "df_authors.columns = ['id', 'name']\n",
    "df_authors.to_csv('tables/authors.csv', index=False, encoding='utf-8')"
   ]
  },
  {
   "cell_type": "code",
   "execution_count": 24,
   "metadata": {},
   "outputs": [],
   "source": [
    "df = df.assign(difficulty_id=df.difficulty.factorize()[0] + 1)\n",
    "df_difficulties = df[['difficulty_id', 'difficulty']].drop_duplicates()\n",
    "df_difficulties.columns = ['id', 'name']\n",
    "df_difficulties.to_csv('tables/difficulties.csv', index=False, encoding='utf-8')"
   ]
  },
  {
   "cell_type": "code",
   "execution_count": 25,
   "metadata": {},
   "outputs": [],
   "source": [
    "df = df.assign(budget_id=df.budget.factorize()[0] + 1)\n",
    "df_budgets = df[['budget_id', 'budget']].drop_duplicates()\n",
    "df_budgets.columns = ['id', 'name']\n",
    "df_budgets.to_csv('tables/budgets.csv', index=False, encoding='utf-8')"
   ]
  },
  {
   "cell_type": "code",
   "execution_count": 26,
   "metadata": {},
   "outputs": [],
   "source": [
    "df_recipes = df[['id','name','rate','people_quantity','prep_time_in_minutes','cook_time_in_minutes','total_time_in_minutes', \n",
    "                 'image','number_of_comments','author_id','difficulty_id','budget_id']]\n",
    "df_recipes.to_csv('tables/recipes.csv', index=False, encoding='utf-8')"
   ]
  },
  {
   "cell_type": "code",
   "execution_count": 27,
   "metadata": {},
   "outputs": [],
   "source": [
    "df_recipes_ingredients = df.explode('ingredients')\n",
    "df_recipes_ingredients = df_recipes_ingredients.assign(ingredient_id=df_recipes_ingredients.ingredients.factorize()[0] + 1)\n",
    "\n",
    "df_ingredients = df_recipes_ingredients[['ingredient_id', 'ingredients']].drop_duplicates()\n",
    "df_ingredients.columns = ['id', 'name']\n",
    "df_ingredients.to_csv('tables/ingredients.csv', index=False, encoding='utf-8')\n",
    "\n",
    "df_recipes_ingredients = df_recipes_ingredients[['id', 'ingredient_id']]\n",
    "df_recipes_ingredients.columns = ['recipe_id', 'ingredient_id']\n",
    "df_recipes_ingredients.to_csv('tables/recipes_ingredients.csv', index=False, encoding='utf-8')"
   ]
  },
  {
   "cell_type": "code",
   "execution_count": 28,
   "metadata": {},
   "outputs": [],
   "source": [
    "df_recipes_tags = df.explode('tags')\n",
    "df_recipes_tags = df_recipes_tags.assign(tag_id=df_recipes_tags.tags.factorize()[0] + 1)\n",
    "\n",
    "df_tags = df_recipes_tags[['tag_id', 'tags']].drop_duplicates()\n",
    "df_tags.columns = ['id', 'name']\n",
    "df_tags.to_csv('tables/tags.csv', index=False, encoding='utf-8')\n",
    "\n",
    "df_recipes_tags = df_recipes_tags[['id', 'tag_id']]\n",
    "df_recipes_tags.columns = ['recipe_id', 'tag_id']\n",
    "df_recipes_tags.to_csv('tables/recipes_tags.csv', index=False, encoding='utf-8')"
   ]
  }
 ],
 "metadata": {
  "kernelspec": {
   "display_name": "Python 3",
   "language": "python",
   "name": "python3"
  },
  "language_info": {
   "codemirror_mode": {
    "name": "ipython",
    "version": 3
   },
   "file_extension": ".py",
   "mimetype": "text/x-python",
   "name": "python",
   "nbconvert_exporter": "python",
   "pygments_lexer": "ipython3",
   "version": "3.7.6"
  }
 },
 "nbformat": 4,
 "nbformat_minor": 4
}
